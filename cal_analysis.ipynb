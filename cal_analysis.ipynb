{
 "cells": [
  {
   "cell_type": "code",
   "execution_count": 1,
   "id": "efe8cd93",
   "metadata": {},
   "outputs": [],
   "source": [
    "import pandas as pd\n",
    "from datetime import datetime\n",
    "import dateutil.parser\n",
    "import yaml"
   ]
  },
  {
   "cell_type": "code",
   "execution_count": 6,
   "metadata": {},
   "outputs": [],
   "source": [
    "with open('config.yaml') as file:\n",
    "        config = yaml.full_load(file)"
   ]
  },
  {
   "cell_type": "code",
   "execution_count": 7,
   "id": "9129d811",
   "metadata": {},
   "outputs": [],
   "source": [
    "df = pd.read_csv('cal_events.csv')"
   ]
  },
  {
   "cell_type": "code",
   "execution_count": 8,
   "id": "71358048",
   "metadata": {},
   "outputs": [],
   "source": [
    "def date_parser(item):\n",
    "    return dateutil.parser.isoparse(item)"
   ]
  },
  {
   "cell_type": "code",
   "execution_count": 9,
   "id": "72097f41",
   "metadata": {},
   "outputs": [],
   "source": [
    "search_strings = config['search_strings']['project_1_terms']"
   ]
  },
  {
   "cell_type": "code",
   "execution_count": 10,
   "id": "116cd1b4",
   "metadata": {},
   "outputs": [],
   "source": [
    "eudf = df[df['event_name'].str.contains('|'.join(search_strings),case=False)].reset_index(drop=True)"
   ]
  },
  {
   "cell_type": "code",
   "execution_count": 11,
   "id": "74138eb4",
   "metadata": {},
   "outputs": [],
   "source": [
    "eudf['start_date'] = eudf['start_date'].apply(date_parser)\n",
    "eudf['end_date'] = eudf['end_date'].apply(date_parser)"
   ]
  },
  {
   "cell_type": "code",
   "execution_count": 12,
   "id": "d000bd6b",
   "metadata": {},
   "outputs": [],
   "source": [
    "eudf['duration'] = eudf['end_date'] - eudf['start_date']"
   ]
  },
  {
   "cell_type": "code",
   "execution_count": 13,
   "id": "68af29fa",
   "metadata": {},
   "outputs": [],
   "source": [
    "eudf['duration'] = [i.seconds for i in eudf['duration']]"
   ]
  },
  {
   "cell_type": "code",
   "execution_count": 15,
   "id": "fb7faa35",
   "metadata": {},
   "outputs": [],
   "source": [
    "hours_meetings = eudf['duration'].sum()/60/60"
   ]
  },
  {
   "cell_type": "code",
   "execution_count": 16,
   "id": "b2c0dac6",
   "metadata": {},
   "outputs": [],
   "source": [
    "hours_total_project = 103.5*8"
   ]
  },
  {
   "cell_type": "code",
   "execution_count": 17,
   "id": "b76d8c18",
   "metadata": {},
   "outputs": [
    {
     "output_type": "execute_result",
     "data": {
      "text/plain": [
       "(218.5, 828.0)"
      ]
     },
     "metadata": {},
     "execution_count": 17
    }
   ],
   "source": [
    "hours_meetings, hours_total_project"
   ]
  },
  {
   "cell_type": "code",
   "execution_count": 18,
   "id": "2b2392bb",
   "metadata": {},
   "outputs": [
    {
     "output_type": "execute_result",
     "data": {
      "text/plain": [
       "26.38888888888889"
      ]
     },
     "metadata": {},
     "execution_count": 18
    }
   ],
   "source": [
    "hours_meetings*100/hours_total_project "
   ]
  },
  {
   "cell_type": "code",
   "execution_count": null,
   "id": "e4abad26",
   "metadata": {},
   "outputs": [],
   "source": []
  }
 ],
 "metadata": {
  "kernelspec": {
   "name": "python3",
   "display_name": "Python 3.8.8 64-bit ('base': conda)"
  },
  "language_info": {
   "codemirror_mode": {
    "name": "ipython",
    "version": 3
   },
   "file_extension": ".py",
   "mimetype": "text/x-python",
   "name": "python",
   "nbconvert_exporter": "python",
   "pygments_lexer": "ipython3",
   "version": "3.8.8"
  },
  "interpreter": {
   "hash": "dca0ade3e726a953b501b15e8e990130d2b7799f14cfd9f4271676035ebe5511"
  }
 },
 "nbformat": 4,
 "nbformat_minor": 5
}