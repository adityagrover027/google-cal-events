{
 "cells": [
  {
   "cell_type": "markdown",
   "id": "950ce71c",
   "metadata": {},
   "source": [
    "#### Calendar events taken from 1st Sep 2020 till current date"
   ]
  },
  {
   "cell_type": "code",
   "execution_count": 1,
   "id": "a8f40af0",
   "metadata": {},
   "outputs": [],
   "source": [
    "import pandas as pd\n",
    "from datetime import datetime\n",
    "import dateutil.parser\n",
    "import yaml"
   ]
  },
  {
   "cell_type": "code",
   "execution_count": 2,
   "id": "77021780",
   "metadata": {},
   "outputs": [],
   "source": [
    "with open('config.yaml') as file:\n",
    "        config = yaml.full_load(file)"
   ]
  },
  {
   "cell_type": "code",
   "execution_count": 3,
   "id": "9129d811",
   "metadata": {},
   "outputs": [],
   "source": [
    "df = pd.read_csv('cal_events.csv')"
   ]
  },
  {
   "cell_type": "code",
   "execution_count": 4,
   "id": "71358048",
   "metadata": {},
   "outputs": [],
   "source": [
    "def date_parser(item):\n",
    "    return dateutil.parser.isoparse(item)"
   ]
  },
  {
   "cell_type": "code",
   "execution_count": 5,
   "id": "72097f41",
   "metadata": {},
   "outputs": [],
   "source": [
    "search_strings_1 = config['search_strings']['project_1_terms']\n",
    "search_strings_2 = config['search_strings']['project_2_terms']"
   ]
  },
  {
   "cell_type": "code",
   "execution_count": 6,
   "id": "116cd1b4",
   "metadata": {},
   "outputs": [],
   "source": [
    "eudf = df[df['event_name'].str.contains('|'.join(search_strings_1),case=False)].reset_index(drop=True)"
   ]
  },
  {
   "cell_type": "code",
   "execution_count": 7,
   "id": "0d063483",
   "metadata": {},
   "outputs": [],
   "source": [
    "int_df = df[df['event_name'].str.contains('|'.join(search_strings_2),case=False)].reset_index(drop=True)"
   ]
  },
  {
   "cell_type": "code",
   "execution_count": 8,
   "id": "74138eb4",
   "metadata": {},
   "outputs": [],
   "source": [
    "eudf['start_date'] = eudf['start_date'].apply(date_parser)\n",
    "eudf['end_date'] = eudf['end_date'].apply(date_parser)"
   ]
  },
  {
   "cell_type": "code",
   "execution_count": 9,
   "id": "4d92d887",
   "metadata": {},
   "outputs": [],
   "source": [
    "int_df['start_date'] = int_df['start_date'].apply(date_parser)\n",
    "int_df['end_date'] = int_df['end_date'].apply(date_parser)"
   ]
  },
  {
   "cell_type": "code",
   "execution_count": 10,
   "id": "d000bd6b",
   "metadata": {},
   "outputs": [],
   "source": [
    "eudf['duration'] = eudf['end_date'] - eudf['start_date']"
   ]
  },
  {
   "cell_type": "code",
   "execution_count": 11,
   "id": "68af29fa",
   "metadata": {},
   "outputs": [],
   "source": [
    "eudf['duration'] = [i.seconds for i in eudf['duration']]"
   ]
  },
  {
   "cell_type": "code",
   "execution_count": 12,
   "id": "e82454cb",
   "metadata": {},
   "outputs": [],
   "source": [
    "int_df['duration'] = int_df['end_date'] - int_df['start_date']"
   ]
  },
  {
   "cell_type": "code",
   "execution_count": 13,
   "id": "190b213d",
   "metadata": {},
   "outputs": [],
   "source": [
    "int_df['duration'] = [i.seconds for i in int_df['duration']]"
   ]
  },
  {
   "cell_type": "code",
   "execution_count": 15,
   "id": "36c4d076",
   "metadata": {},
   "outputs": [],
   "source": [
    "int_df = int_df[int_df['duration']<4500].reset_index(drop=True)"
   ]
  },
  {
   "cell_type": "code",
   "execution_count": 10,
   "id": "fb7faa35",
   "metadata": {},
   "outputs": [],
   "source": [
    "hours_meetings = eudf['duration'].sum()/60/60"
   ]
  },
  {
   "cell_type": "code",
   "execution_count": 11,
   "id": "b2c0dac6",
   "metadata": {},
   "outputs": [],
   "source": [
    "hours_total_project = 103.5*8"
   ]
  },
  {
   "cell_type": "code",
   "execution_count": 12,
   "id": "b76d8c18",
   "metadata": {},
   "outputs": [
    {
     "data": {
      "text/plain": [
       "(218.5, 828.0)"
      ]
     },
     "execution_count": 12,
     "metadata": {},
     "output_type": "execute_result"
    }
   ],
   "source": [
    "hours_meetings, hours_total_project"
   ]
  },
  {
   "cell_type": "code",
   "execution_count": 13,
   "id": "2b2392bb",
   "metadata": {},
   "outputs": [
    {
     "data": {
      "text/plain": [
       "26.38888888888889"
      ]
     },
     "execution_count": 13,
     "metadata": {},
     "output_type": "execute_result"
    }
   ],
   "source": [
    "hours_meetings*100/hours_total_project "
   ]
  },
  {
   "cell_type": "code",
   "execution_count": 17,
   "id": "e4abad26",
   "metadata": {},
   "outputs": [],
   "source": [
    "int_hours = int_df['duration'].sum()/60/60"
   ]
  },
  {
   "cell_type": "code",
   "execution_count": 18,
   "id": "56c9a1eb",
   "metadata": {},
   "outputs": [
    {
     "data": {
      "text/plain": [
       "29.25"
      ]
     },
     "execution_count": 18,
     "metadata": {},
     "output_type": "execute_result"
    }
   ],
   "source": [
    "int_hours"
   ]
  },
  {
   "cell_type": "code",
   "execution_count": null,
   "id": "30e3b0f5",
   "metadata": {},
   "outputs": [],
   "source": []
  }
 ],
 "metadata": {
  "interpreter": {
   "hash": "dca0ade3e726a953b501b15e8e990130d2b7799f14cfd9f4271676035ebe5511"
  },
  "kernelspec": {
   "display_name": "Python 3",
   "language": "python",
   "name": "python3"
  },
  "language_info": {
   "codemirror_mode": {
    "name": "ipython",
    "version": 3
   },
   "file_extension": ".py",
   "mimetype": "text/x-python",
   "name": "python",
   "nbconvert_exporter": "python",
   "pygments_lexer": "ipython3",
   "version": "3.8.8"
  }
 },
 "nbformat": 4,
 "nbformat_minor": 5
}
