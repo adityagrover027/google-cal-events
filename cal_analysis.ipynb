{
 "cells": [
  {
   "cell_type": "code",
   "execution_count": 30,
   "id": "efe8cd93",
   "metadata": {},
   "outputs": [],
   "source": [
    "import pandas as pd\n",
    "from datetime import datetime\n",
    "import dateutil.parser"
   ]
  },
  {
   "cell_type": "code",
   "execution_count": 31,
   "id": "9129d811",
   "metadata": {},
   "outputs": [],
   "source": [
    "df = pd.read_csv('cal_events.csv')"
   ]
  },
  {
   "cell_type": "code",
   "execution_count": 32,
   "id": "71358048",
   "metadata": {},
   "outputs": [],
   "source": [
    "def date_parser(item):\n",
    "    return dateutil.parser.isoparse(item)"
   ]
  },
  {
   "cell_type": "code",
   "execution_count": 33,
   "id": "72097f41",
   "metadata": {},
   "outputs": [],
   "source": [
    "search_strings = ['euhubs','euh4d','wp','euhubs4data','euh']"
   ]
  },
  {
   "cell_type": "code",
   "execution_count": 34,
   "id": "116cd1b4",
   "metadata": {},
   "outputs": [],
   "source": [
    "eudf = df[df['event_name'].str.contains('|'.join(search_strings),case=False)].reset_index(drop=True)"
   ]
  },
  {
   "cell_type": "code",
   "execution_count": 36,
   "id": "74138eb4",
   "metadata": {},
   "outputs": [],
   "source": [
    "eudf['start_date'] = eudf['start_date'].apply(date_parser)\n",
    "eudf['end_date'] = eudf['end_date'].apply(date_parser)"
   ]
  },
  {
   "cell_type": "code",
   "execution_count": 43,
   "id": "d000bd6b",
   "metadata": {},
   "outputs": [],
   "source": [
    "eudf['duration'] = eudf['end_date'] - eudf['start_date']"
   ]
  },
  {
   "cell_type": "code",
   "execution_count": 44,
   "id": "68af29fa",
   "metadata": {},
   "outputs": [],
   "source": [
    "eudf['duration'] = [i.seconds for i in eudf['duration']]"
   ]
  },
  {
   "cell_type": "code",
   "execution_count": 45,
   "id": "1e85b419",
   "metadata": {},
   "outputs": [
    {
     "data": {
      "text/html": [
       "<div>\n",
       "<style scoped>\n",
       "    .dataframe tbody tr th:only-of-type {\n",
       "        vertical-align: middle;\n",
       "    }\n",
       "\n",
       "    .dataframe tbody tr th {\n",
       "        vertical-align: top;\n",
       "    }\n",
       "\n",
       "    .dataframe thead th {\n",
       "        text-align: right;\n",
       "    }\n",
       "</style>\n",
       "<table border=\"1\" class=\"dataframe\">\n",
       "  <thead>\n",
       "    <tr style=\"text-align: right;\">\n",
       "      <th></th>\n",
       "      <th>start_date</th>\n",
       "      <th>end_date</th>\n",
       "      <th>event_name</th>\n",
       "      <th>duration</th>\n",
       "    </tr>\n",
       "  </thead>\n",
       "  <tbody>\n",
       "    <tr>\n",
       "      <th>0</th>\n",
       "      <td>2020-09-17 10:00:00+01:00</td>\n",
       "      <td>2020-09-17 11:00:00+01:00</td>\n",
       "      <td>EUHubs4Data WP8 Bi-weekly Meeting</td>\n",
       "      <td>3600</td>\n",
       "    </tr>\n",
       "    <tr>\n",
       "      <th>1</th>\n",
       "      <td>2020-09-17 15:00:00+01:00</td>\n",
       "      <td>2020-09-17 16:00:00+01:00</td>\n",
       "      <td>EUHubs4Data WP4 Montly Telco</td>\n",
       "      <td>3600</td>\n",
       "    </tr>\n",
       "    <tr>\n",
       "      <th>2</th>\n",
       "      <td>2020-09-28 11:00:00+01:00</td>\n",
       "      <td>2020-09-28 12:00:00+01:00</td>\n",
       "      <td>Discuss EUHubs4Data</td>\n",
       "      <td>3600</td>\n",
       "    </tr>\n",
       "    <tr>\n",
       "      <th>3</th>\n",
       "      <td>2020-09-29 08:00:00+01:00</td>\n",
       "      <td>2020-09-29 17:00:00+01:00</td>\n",
       "      <td>EUHubs4Data KoM - Day 1</td>\n",
       "      <td>32400</td>\n",
       "    </tr>\n",
       "    <tr>\n",
       "      <th>4</th>\n",
       "      <td>2020-09-30 08:00:00+01:00</td>\n",
       "      <td>2020-09-30 17:00:00+01:00</td>\n",
       "      <td>EUhubs4Data KoM - Day 2</td>\n",
       "      <td>32400</td>\n",
       "    </tr>\n",
       "    <tr>\n",
       "      <th>...</th>\n",
       "      <td>...</td>\n",
       "      <td>...</td>\n",
       "      <td>...</td>\n",
       "      <td>...</td>\n",
       "    </tr>\n",
       "    <tr>\n",
       "      <th>126</th>\n",
       "      <td>2021-06-17 08:20:00+01:00</td>\n",
       "      <td>2021-06-17 12:15:00+01:00</td>\n",
       "      <td>EUH4D - 2nd plenary meeting - Day 3</td>\n",
       "      <td>14100</td>\n",
       "    </tr>\n",
       "    <tr>\n",
       "      <th>127</th>\n",
       "      <td>2021-06-21 14:00:00+01:00</td>\n",
       "      <td>2021-06-21 15:00:00+01:00</td>\n",
       "      <td>EUHubs4data WP5  monthly meeting</td>\n",
       "      <td>3600</td>\n",
       "    </tr>\n",
       "    <tr>\n",
       "      <th>128</th>\n",
       "      <td>2021-06-22 12:00:00+01:00</td>\n",
       "      <td>2021-06-22 13:00:00+01:00</td>\n",
       "      <td>EUH4D ICAP Monthly Meeting June</td>\n",
       "      <td>3600</td>\n",
       "    </tr>\n",
       "    <tr>\n",
       "      <th>129</th>\n",
       "      <td>2021-06-22 15:00:00+01:00</td>\n",
       "      <td>2021-06-22 16:00:00+01:00</td>\n",
       "      <td>EUH4D WP4 Monthly call</td>\n",
       "      <td>3600</td>\n",
       "    </tr>\n",
       "    <tr>\n",
       "      <th>130</th>\n",
       "      <td>2021-06-24 10:00:00+01:00</td>\n",
       "      <td>2021-06-24 11:00:00+01:00</td>\n",
       "      <td>EUHubs4Data WP8 Bi-weekly Meeting</td>\n",
       "      <td>3600</td>\n",
       "    </tr>\n",
       "  </tbody>\n",
       "</table>\n",
       "<p>131 rows × 4 columns</p>\n",
       "</div>"
      ],
      "text/plain": [
       "                    start_date                   end_date  \\\n",
       "0    2020-09-17 10:00:00+01:00  2020-09-17 11:00:00+01:00   \n",
       "1    2020-09-17 15:00:00+01:00  2020-09-17 16:00:00+01:00   \n",
       "2    2020-09-28 11:00:00+01:00  2020-09-28 12:00:00+01:00   \n",
       "3    2020-09-29 08:00:00+01:00  2020-09-29 17:00:00+01:00   \n",
       "4    2020-09-30 08:00:00+01:00  2020-09-30 17:00:00+01:00   \n",
       "..                         ...                        ...   \n",
       "126  2021-06-17 08:20:00+01:00  2021-06-17 12:15:00+01:00   \n",
       "127  2021-06-21 14:00:00+01:00  2021-06-21 15:00:00+01:00   \n",
       "128  2021-06-22 12:00:00+01:00  2021-06-22 13:00:00+01:00   \n",
       "129  2021-06-22 15:00:00+01:00  2021-06-22 16:00:00+01:00   \n",
       "130  2021-06-24 10:00:00+01:00  2021-06-24 11:00:00+01:00   \n",
       "\n",
       "                              event_name  duration  \n",
       "0      EUHubs4Data WP8 Bi-weekly Meeting      3600  \n",
       "1           EUHubs4Data WP4 Montly Telco      3600  \n",
       "2                    Discuss EUHubs4Data      3600  \n",
       "3                EUHubs4Data KoM - Day 1     32400  \n",
       "4                EUhubs4Data KoM - Day 2     32400  \n",
       "..                                   ...       ...  \n",
       "126  EUH4D - 2nd plenary meeting - Day 3     14100  \n",
       "127     EUHubs4data WP5  monthly meeting      3600  \n",
       "128      EUH4D ICAP Monthly Meeting June      3600  \n",
       "129               EUH4D WP4 Monthly call      3600  \n",
       "130    EUHubs4Data WP8 Bi-weekly Meeting      3600  \n",
       "\n",
       "[131 rows x 4 columns]"
      ]
     },
     "execution_count": 45,
     "metadata": {},
     "output_type": "execute_result"
    }
   ],
   "source": [
    "eudf"
   ]
  },
  {
   "cell_type": "code",
   "execution_count": 54,
   "id": "fb7faa35",
   "metadata": {},
   "outputs": [],
   "source": [
    "hours_meetings = eudf['duration'].sum()/60/60"
   ]
  },
  {
   "cell_type": "code",
   "execution_count": 53,
   "id": "b2c0dac6",
   "metadata": {},
   "outputs": [],
   "source": [
    "hours_total_project = 103.5*8"
   ]
  },
  {
   "cell_type": "code",
   "execution_count": 56,
   "id": "b76d8c18",
   "metadata": {},
   "outputs": [
    {
     "data": {
      "text/plain": [
       "(218.5, 828.0)"
      ]
     },
     "execution_count": 56,
     "metadata": {},
     "output_type": "execute_result"
    }
   ],
   "source": [
    "hours_meetings, hours_total_project"
   ]
  },
  {
   "cell_type": "code",
   "execution_count": 55,
   "id": "2b2392bb",
   "metadata": {},
   "outputs": [
    {
     "data": {
      "text/plain": [
       "26.38888888888889"
      ]
     },
     "execution_count": 55,
     "metadata": {},
     "output_type": "execute_result"
    }
   ],
   "source": [
    "hours_meetings*100/hours_total_project "
   ]
  },
  {
   "cell_type": "code",
   "execution_count": null,
   "id": "e4abad26",
   "metadata": {},
   "outputs": [],
   "source": []
  }
 ],
 "metadata": {
  "kernelspec": {
   "display_name": "Python 3",
   "language": "python",
   "name": "python3"
  },
  "language_info": {
   "codemirror_mode": {
    "name": "ipython",
    "version": 3
   },
   "file_extension": ".py",
   "mimetype": "text/x-python",
   "name": "python",
   "nbconvert_exporter": "python",
   "pygments_lexer": "ipython3",
   "version": "3.8.8"
  }
 },
 "nbformat": 4,
 "nbformat_minor": 5
}
